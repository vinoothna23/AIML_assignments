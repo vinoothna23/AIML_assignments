{
  "nbformat": 4,
  "nbformat_minor": 0,
  "metadata": {
    "colab": {
      "provenance": [],
      "include_colab_link": true
    },
    "kernelspec": {
      "name": "python3",
      "display_name": "Python 3"
    },
    "language_info": {
      "name": "python"
    }
  },
  "cells": [
    {
      "cell_type": "markdown",
      "metadata": {
        "id": "view-in-github",
        "colab_type": "text"
      },
      "source": [
        "<a href=\"https://colab.research.google.com/github/vinoothna23/AIML_assignments/blob/main/AIML_Module_1_Lab_2_Machine_learning_terms_and_metrics.ipynb\" target=\"_parent\"><img src=\"https://colab.research.google.com/assets/colab-badge.svg\" alt=\"Open In Colab\"/></a>"
      ]
    },
    {
      "cell_type": "markdown",
      "metadata": {
        "id": "3Eu9VZbF01eq"
      },
      "source": [
        "##AIML Module 1 - Lab 2\n",
        "# Machine learning terms and metrics\n",
        "\n",
        "\n",
        " In this lab, we will show a part of the ML pipeline by extracting features, training and testing"
      ]
    },
    {
      "cell_type": "code",
      "metadata": {
        "id": "8qBvyEem0vLi",
        "outputId": "1105d752-ff32-4cc6-c5d9-a4dd33e52641",
        "colab": {
          "base_uri": "https://localhost:8080/"
        }
      },
      "source": [
        "import matplotlib.pyplot as plt\n",
        "import numpy as np\n",
        "from sklearn import datasets\n",
        "# set randomseed\n",
        "rng = np.random.default_rng(seed=42)\n",
        "#rng1=rng.integers(1,100)\n",
        "#print(rng1)\n",
        "print(rng)"
      ],
      "execution_count": 1,
      "outputs": [
        {
          "output_type": "stream",
          "name": "stdout",
          "text": [
            "Generator(PCG64)\n"
          ]
        }
      ]
    },
    {
      "cell_type": "markdown",
      "metadata": {
        "id": "u3t59g5s1HfC"
      },
      "source": [
        "In this lab, we will use the California Housing dataset. There are 20640 samples, each with 8 attributes like income of the block, age of the houses per district etc. The task is to predict the cost of the houses per district.\n",
        "\n",
        "Let us download and examine the dataset."
      ]
    },
    {
      "cell_type": "code",
      "metadata": {
        "id": "8LpqjN991GGJ",
        "colab": {
          "base_uri": "https://localhost:8080/"
        },
        "outputId": "e177bcb5-764a-4360-e011-a759d9757206"
      },
      "source": [
        " dataset =  datasets.fetch_california_housing()\n",
        " print(dataset.DESCR)  # uncomment this if you want to know more about this dataset\n",
        " print(dataset.keys())  # if you want to know what else is there in this dataset\n",
        " dataset.target = dataset.target.astype(np.int) # so that we can classify\n",
        " print(dataset.data.shape)\n",
        " print(dataset.target.shape)"
      ],
      "execution_count": 2,
      "outputs": [
        {
          "output_type": "stream",
          "name": "stdout",
          "text": [
            ".. _california_housing_dataset:\n",
            "\n",
            "California Housing dataset\n",
            "--------------------------\n",
            "\n",
            "**Data Set Characteristics:**\n",
            "\n",
            "    :Number of Instances: 20640\n",
            "\n",
            "    :Number of Attributes: 8 numeric, predictive attributes and the target\n",
            "\n",
            "    :Attribute Information:\n",
            "        - MedInc        median income in block group\n",
            "        - HouseAge      median house age in block group\n",
            "        - AveRooms      average number of rooms per household\n",
            "        - AveBedrms     average number of bedrooms per household\n",
            "        - Population    block group population\n",
            "        - AveOccup      average number of household members\n",
            "        - Latitude      block group latitude\n",
            "        - Longitude     block group longitude\n",
            "\n",
            "    :Missing Attribute Values: None\n",
            "\n",
            "This dataset was obtained from the StatLib repository.\n",
            "https://www.dcc.fc.up.pt/~ltorgo/Regression/cal_housing.html\n",
            "\n",
            "The target variable is the median house value for California districts,\n",
            "expressed in hundreds of thousands of dollars ($100,000).\n",
            "\n",
            "This dataset was derived from the 1990 U.S. census, using one row per census\n",
            "block group. A block group is the smallest geographical unit for which the U.S.\n",
            "Census Bureau publishes sample data (a block group typically has a population\n",
            "of 600 to 3,000 people).\n",
            "\n",
            "A household is a group of people residing within a home. Since the average\n",
            "number of rooms and bedrooms in this dataset are provided per household, these\n",
            "columns may take surprisingly large values for block groups with few households\n",
            "and many empty houses, such as vacation resorts.\n",
            "\n",
            "It can be downloaded/loaded using the\n",
            ":func:`sklearn.datasets.fetch_california_housing` function.\n",
            "\n",
            ".. topic:: References\n",
            "\n",
            "    - Pace, R. Kelley and Ronald Barry, Sparse Spatial Autoregressions,\n",
            "      Statistics and Probability Letters, 33 (1997) 291-297\n",
            "\n",
            "dict_keys(['data', 'target', 'frame', 'target_names', 'feature_names', 'DESCR'])\n",
            "(20640, 8)\n",
            "(20640,)\n"
          ]
        },
        {
          "output_type": "stream",
          "name": "stderr",
          "text": [
            "<ipython-input-2-d89ecb46a347>:4: DeprecationWarning: `np.int` is a deprecated alias for the builtin `int`. To silence this warning, use `int` by itself. Doing this will not modify any behavior and is safe. When replacing `np.int`, you may wish to use e.g. `np.int64` or `np.int32` to specify the precision. If you wish to review your current use, check the release note link for additional information.\n",
            "Deprecated in NumPy 1.20; for more details and guidance: https://numpy.org/devdocs/release/1.20.0-notes.html#deprecations\n",
            "  dataset.target = dataset.target.astype(np.int) # so that we can classify\n"
          ]
        }
      ]
    },
    {
      "cell_type": "markdown",
      "metadata": {
        "id": "iNx4174W5xRg"
      },
      "source": [
        "Here is a function for calculating the 1-nearest neighbours"
      ]
    },
    {
      "cell_type": "code",
      "metadata": {
        "id": "07zpydQj1hIQ"
      },
      "source": [
        "def NN1(traindata, trainlabel, query):\n",
        "  diff  = traindata - query  # find the difference between features. Numpy automatically takes care of the size here\n",
        "  sq = diff*diff # square the differences\n",
        "  dist = sq.sum(1) # add up the squares\n",
        "  label = trainlabel[np.argmin(dist)] # our predicted label is the label of the training data which has the least distance from the query\n",
        "  return label\n",
        "\n",
        "def NN(traindata, trainlabel, testdata):\n",
        "  # we will run nearest neighbour for each sample in the test data\n",
        "  # and collect the predicted classes in an array using list comprehension\n",
        "  predlabel = np.array([NN1(traindata, trainlabel, i) for i in testdata])\n",
        "  return predlabel"
      ],
      "execution_count": 3,
      "outputs": []
    },
    {
      "cell_type": "markdown",
      "metadata": {
        "id": "03JktkfIGaje"
      },
      "source": [
        "We will also define a 'random classifier', which randomly allots labels to each sample"
      ]
    },
    {
      "cell_type": "code",
      "metadata": {
        "id": "fogWAtjyGhAH"
      },
      "source": [
        "def RandomClassifier(traindata, trainlabel, testdata):\n",
        "  # in reality, we don't need these arguments\n",
        "\n",
        "  classes = np.unique(trainlabel)\n",
        "  rints = rng.integers(low=0, high=len(classes), size=len(testdata))\n",
        "  predlabel = classes[rints]\n",
        "  return predlabel"
      ],
      "execution_count": 4,
      "outputs": []
    },
    {
      "cell_type": "markdown",
      "metadata": {
        "id": "1Hjf1KHs7fU5"
      },
      "source": [
        "Let us define a metric 'Accuracy' to see how good our learning algorithm is. Accuracy is the ratio of the number of correctly classified samples to the total number of samples. The higher the accuracy, the better the algorithm."
      ]
    },
    {
      "cell_type": "code",
      "metadata": {
        "id": "ouuCqWU07bz-"
      },
      "source": [
        "def Accuracy(gtlabel, predlabel):\n",
        "  assert len(gtlabel)==len(predlabel), \"Length of the groundtruth labels and predicted labels should be the same\"\n",
        "  correct = (gtlabel==predlabel).sum() # count the number of times the groundtruth label is equal to the predicted label.\n",
        "  return correct/len(gtlabel)"
      ],
      "execution_count": 5,
      "outputs": []
    },
    {
      "cell_type": "markdown",
      "metadata": {
        "id": "4vJFwBFa9Klw"
      },
      "source": [
        "Let us make a function to split the dataset with the desired probability."
      ]
    },
    {
      "cell_type": "code",
      "metadata": {
        "id": "Ko0VzpSM2Tdi"
      },
      "source": [
        "def split(data, label, percent):\n",
        "  # generate a random number for each sample\n",
        "  rnd = rng.random(len(label))\n",
        "  split1 = rnd<percent\n",
        "  split2 = rnd>=percent\n",
        "  split1data = data[split1,:]\n",
        "  split1label = label[split1]\n",
        "  split2data = data[split2,:]\n",
        "  split2label = label[split2]\n",
        "  return split1data, split1label, split2data, split2label"
      ],
      "execution_count": 6,
      "outputs": []
    },
    {
      "cell_type": "markdown",
      "metadata": {
        "id": "AcK3LEAJ_LGC"
      },
      "source": [
        "We will reserve 20% of our dataset as the test set. We will not change this portion throughout our experiments"
      ]
    },
    {
      "cell_type": "code",
      "metadata": {
        "id": "bBZkHBLJ1iU-",
        "colab": {
          "base_uri": "https://localhost:8080/"
        },
        "outputId": "5857853e-3ead-4763-c986-ceaf18ff84a1"
      },
      "source": [
        "testdata, testlabel, alltraindata, alltrainlabel = split(dataset.data, dataset.target, 20/100)\n",
        "print('Number of test samples = ', len(testlabel))\n",
        "print('Number of other samples = ', len(alltrainlabel))\n",
        "print('Percent of test data = ', len(testlabel)*100/len(dataset.target),'%')"
      ],
      "execution_count": 7,
      "outputs": [
        {
          "output_type": "stream",
          "name": "stdout",
          "text": [
            "Number of test samples =  4144\n",
            "Number of other samples =  16496\n",
            "Percent of test data =  20.07751937984496 %\n"
          ]
        }
      ]
    },
    {
      "cell_type": "markdown",
      "metadata": {
        "id": "a6Ss0Z6IAGNV"
      },
      "source": [
        "## Experiments with splits\n",
        "\n",
        "Let us reserve some of our train data as a validation set"
      ]
    },
    {
      "cell_type": "code",
      "metadata": {
        "id": "WFew2iry_7W7"
      },
      "source": [
        "traindata, trainlabel, valdata, vallabel = split(alltraindata, alltrainlabel, 75/100)"
      ],
      "execution_count": 8,
      "outputs": []
    },
    {
      "cell_type": "markdown",
      "metadata": {
        "id": "60hiu4clFN1i"
      },
      "source": [
        "What is the accuracy of our classifiers on the train dataset?"
      ]
    },
    {
      "cell_type": "code",
      "metadata": {
        "id": "DBlZDTHUFTZx",
        "colab": {
          "base_uri": "https://localhost:8080/"
        },
        "outputId": "6464686c-8729-4284-83f0-dbb9d8d3b38c"
      },
      "source": [
        "trainpred = NN(traindata, trainlabel, traindata)\n",
        "trainAccuracy = Accuracy(trainlabel, trainpred)\n",
        "print(\"Train accuracy using nearest neighbour is \", trainAccuracy)\n",
        "\n",
        "trainpred = RandomClassifier(traindata, trainlabel, traindata)\n",
        "trainAccuracy = Accuracy(trainlabel, trainpred)\n",
        "print(\"Train accuracy using random classifier is \", trainAccuracy)"
      ],
      "execution_count": 9,
      "outputs": [
        {
          "output_type": "stream",
          "name": "stdout",
          "text": [
            "Train accuracy using nearest neighbour is  1.0\n",
            "Train accuracy using random classifier is  0.164375808538163\n"
          ]
        }
      ]
    },
    {
      "cell_type": "markdown",
      "metadata": {
        "id": "7h08-9gJDtSy"
      },
      "source": [
        "For nearest neighbour, the train accuracy is always 1. The accuracy of the random classifier is close to 1/(number of classes) which is 0.1666 in our case.\n",
        "\n",
        "Let us predict the labels for our validation set and get the accuracy"
      ]
    },
    {
      "cell_type": "code",
      "metadata": {
        "id": "4h7bXoW_2H3v",
        "colab": {
          "base_uri": "https://localhost:8080/"
        },
        "outputId": "c8e5b04c-409a-4979-84b1-7ca9a0dbbdf8"
      },
      "source": [
        "valpred = NN(traindata, trainlabel, valdata)\n",
        "valAccuracy = Accuracy(vallabel, valpred)\n",
        "print(\"Validation accuracy using nearest neighbour is \", valAccuracy)\n",
        "\n",
        "valpred = RandomClassifier(traindata, trainlabel, valdata)\n",
        "valAccuracy = Accuracy(vallabel, valpred)\n",
        "print(\"Validation accuracy using random classifier is \", valAccuracy)"
      ],
      "execution_count": 10,
      "outputs": [
        {
          "output_type": "stream",
          "name": "stdout",
          "text": [
            "Validation accuracy using nearest neighbour is  0.34108527131782945\n",
            "Validation accuracy using random classifier is  0.1688468992248062\n"
          ]
        }
      ]
    },
    {
      "cell_type": "markdown",
      "metadata": {
        "id": "py9bLguFEjfg"
      },
      "source": [
        "Validation accuracy of nearest neighbour is considerably less than its train accuracy while the validation accuracy of random classifier is the same. However, the validation accuracy of nearest neighbour is twice that of the random classifier.\n",
        "\n",
        "Now let us try another random split and check the validation accuracy"
      ]
    },
    {
      "cell_type": "markdown",
      "source": [
        "Validation accuracy of nearest neighbour"
      ],
      "metadata": {
        "id": "V6aUrGFY1E13"
      }
    },
    {
      "cell_type": "code",
      "metadata": {
        "id": "ujm3cyYzEntE",
        "colab": {
          "base_uri": "https://localhost:8080/"
        },
        "outputId": "81876bdb-7b76-4f72-cfa2-56f5a95a2288"
      },
      "source": [
        "traindata, trainlabel, valdata, vallabel = split(alltraindata, alltrainlabel, 75/100)\n",
        "valpred = NN(traindata, trainlabel, valdata)\n",
        "valAccuracy = Accuracy(vallabel, valpred)\n",
        "print(\"Validation accuracy of nearest neighbour is \", valAccuracy)\n",
        "\n",
        "traindata1, trainlabel1, valdata1, vallabel1 = split(alltraindata, alltrainlabel, 10/100)\n",
        "valpred1 = NN(traindata1, trainlabel1, valdata1)\n",
        "valAccuracy1 = Accuracy(vallabel1, valpred1)\n",
        "print(\"Validation accuracy of nearest neighbour is \", valAccuracy1)\n",
        "\n",
        "traindata3, trainlabel3, valdata3, vallabel3 = split(alltraindata, alltrainlabel, 25/100)\n",
        "valpred3 = NN(traindata3, trainlabel3, valdata3)\n",
        "valAccuracy3 = Accuracy(vallabel3, valpred3)\n",
        "print(\"Validation accuracy of nearest neighbour is \", valAccuracy3)\n",
        "\n",
        "traindata4, trainlabel4, valdata4, vallabel4 = split(alltraindata, alltrainlabel, 50/100)\n",
        "valpred4 = NN(traindata4, trainlabel4, valdata4)\n",
        "valAccuracy4 = Accuracy(vallabel4, valpred4)\n",
        "print(\"Validation accuracy of nearest neighbour is \", valAccuracy4)\n",
        "\n",
        "traindata2, trainlabel2, valdata2, vallabel2 = split(alltraindata, alltrainlabel, 90/100)\n",
        "valpred2 = NN(traindata2, trainlabel2, valdata2)\n",
        "valAccuracy2 = Accuracy(vallabel2, valpred2)\n",
        "print(\"Validation accuracy of nearest neighbour is \", valAccuracy2)"
      ],
      "execution_count": 11,
      "outputs": [
        {
          "output_type": "stream",
          "name": "stdout",
          "text": [
            "Validation accuracy of nearest neighbour is  0.34048257372654156\n",
            "Validation accuracy of nearest neighbour is  0.29523424878836835\n",
            "Validation accuracy of nearest neighbour is  0.31538150989099717\n",
            "Validation accuracy of nearest neighbour is  0.3345010872191351\n",
            "Validation accuracy of nearest neighbour is  0.3277006638503319\n"
          ]
        }
      ]
    },
    {
      "cell_type": "markdown",
      "source": [
        "Validation accuracy of random classifier"
      ],
      "metadata": {
        "id": "viuQyjqU1Wey"
      }
    },
    {
      "cell_type": "code",
      "source": [
        "traindata5, trainlabel5, valdata5, vallabel5 = split(alltraindata, alltrainlabel, 75/100)\n",
        "valpred5 = RandomClassifier(traindata5, trainlabel5, valdata5)\n",
        "valAccuracy5 = Accuracy(vallabel5, valpred5)\n",
        "print(\"Validation accuracy of RandomClassifierr is \", valAccuracy5)\n",
        "\n",
        "traindata6, trainlabel6, valdata6, vallabel6 = split(alltraindata, alltrainlabel, 10/100)\n",
        "valpred6 = RandomClassifier(traindata6, trainlabel6, valdata6)\n",
        "valAccuracy6 = Accuracy(vallabel6, valpred6)\n",
        "print(\"Validation accuracy of RandomClassifier is \", valAccuracy6)\n",
        "\n",
        "traindata7, trainlabel7, valdata7, vallabel7 = split(alltraindata, alltrainlabel, 25/100)\n",
        "valpred7 = RandomClassifier(traindata7, trainlabel7, valdata7)\n",
        "valAccuracy7 = Accuracy(vallabel7, valpred7)\n",
        "print(\"Validation accuracy of RandomClassifier is \", valAccuracy7)\n",
        "\n",
        "traindata8, trainlabel8, valdata8, vallabel8 = split(alltraindata, alltrainlabel, 80/100)\n",
        "valpred8 = RandomClassifier(traindata8, trainlabel8, valdata8)\n",
        "valAccuracy8 = Accuracy(vallabel8, valpred8)\n",
        "print(\"Validation accuracy of RandomClassifier is \", valAccuracy8)\n",
        "\n",
        "traindata9, trainlabel9, valdata9, vallabel9 = split(alltraindata, alltrainlabel, 90/100)\n",
        "valpred9 = RandomClassifier(traindata9, trainlabel9, valdata9)\n",
        "valAccuracy9 = Accuracy(vallabel9, valpred9)\n",
        "print(\"Validation accuracy of RandomClassifier is \", valAccuracy9)"
      ],
      "metadata": {
        "id": "Un6NCXnF_VQ6",
        "outputId": "70283785-56ee-4ab1-8ef9-88ce75e328aa",
        "colab": {
          "base_uri": "https://localhost:8080/"
        }
      },
      "execution_count": 12,
      "outputs": [
        {
          "output_type": "stream",
          "name": "stdout",
          "text": [
            "Validation accuracy of RandomClassifierr is  0.16662606577344702\n",
            "Validation accuracy of RandomClassifier is  0.16945380984490896\n",
            "Validation accuracy of RandomClassifier is  0.1666394646645993\n",
            "Validation accuracy of RandomClassifier is  0.16666666666666666\n",
            "Validation accuracy of RandomClassifier is  0.1632903621853898\n"
          ]
        }
      ]
    },
    {
      "cell_type": "markdown",
      "metadata": {
        "id": "oSOx7U83EKie"
      },
      "source": [
        "\n",
        "You can run the above cell multiple times to try with different random splits.\n",
        "We notice that the accuracy is different for each run, but close together.\n",
        "\n",
        "Now let us compare it with the accuracy we get on the test dataset."
      ]
    },
    {
      "cell_type": "code",
      "metadata": {
        "id": "PNEZ5ToYBEDW",
        "colab": {
          "base_uri": "https://localhost:8080/"
        },
        "outputId": "d4e223a9-ba69-41b4-c7c0-477cc09d8c15"
      },
      "source": [
        "testpred = NN(alltraindata, alltrainlabel, testdata)\n",
        "testAccuracy = Accuracy(testlabel, testpred)\n",
        "print('Test accuracy is ', testAccuracy)"
      ],
      "execution_count": 13,
      "outputs": [
        {
          "output_type": "stream",
          "name": "stdout",
          "text": [
            "Test accuracy is  0.34917953667953666\n"
          ]
        }
      ]
    },
    {
      "cell_type": "markdown",
      "metadata": {
        "id": "w3dGD531K3gH"
      },
      "source": [
        "### Try it out for yourself and answer:\n",
        "1. How is the accuracy of the validation set affected if we increase the percentage of validation set? What happens when we reduce it?\n",
        "2. How does the size of the train and validation set affect how well we can predict the accuracy on the test set using the validation set?\n",
        "3. What do you think is a good percentage to reserve for the validation set so that thest two factors are balanced?\n",
        "\n",
        "Answer for both nearest neighbour and random classifier. You can note down the values for your experiments and plot a graph using  <a href=https://matplotlib.org/stable/gallery/lines_bars_and_markers/step_demo.html#sphx-glr-gallery-lines-bars-and-markers-step-demo-py>plt.plot<href>. Check also for extreme values for splits, like 99.9% or 0.1%"
      ]
    },
    {
      "cell_type": "markdown",
      "source": [
        "ex. 10/100 means 10% training set and 90% validation set\n",
        "\n",
        "1.\n",
        "Nearest neigbour:\n",
        "When the percentage of validation set is increased like in valaccuracy1, the validation accuracy is decreased because the percentage of training set is decreased and hence less training data is available for the model to learn from.\n",
        "When the percentage of validation set is decreased like in valaccuracy4,the validation accuracy is increased because the percentage of training set is increased and hence more training data is available for the model to learn from.\n",
        "\n",
        "RandomClassifier:\n",
        "The validation accuracy is also decreased when the percentage of validation data is decreased.This is because when the validation data is increased, there is more probability of the random guess becoming true.\n",
        "\n",
        "2.\n",
        "A small training or validating data will not give reliable accuracy as having less training data will generate poor models and having less validation data cannot assess the model properly. Hence, a balanced split can give better accuracy for the testing data\n",
        "\n",
        "3.\n",
        "A validation percentage around 35-45 would be a reasonable split for the data to be trained and validated."
      ],
      "metadata": {
        "id": "el4rQ-tQAVSW"
      }
    },
    {
      "cell_type": "code",
      "source": [
        "traindatan, trainlabeln, valdatan, vallabeln = split(alltraindata, alltrainlabel, 99.9/100)\n",
        "valpredn = NN(traindatan, trainlabeln, valdatan)\n",
        "valAccuracyn = Accuracy(vallabeln, valpredn)\n",
        "print(\"Validation accuracy of nearest neighbour is \", valAccuracyn)\n",
        "\n",
        "traindatan, trainlabeln, valdatan, vallabeln = split(alltraindata, alltrainlabel, 0.1/100)\n",
        "valpredn = NN(traindatan, trainlabeln, valdatan)\n",
        "valAccuracyn = Accuracy(vallabeln, valpredn)\n",
        "print(\"Validation accuracy of nearest neighbour is \", valAccuracyn)\n",
        "\n",
        "traindatar, trainlabelr, valdatar, vallabelr = split(alltraindata, alltrainlabel, 99.9/100)\n",
        "valpredr = RandomClassifier(traindatar, trainlabelr, valdatar)\n",
        "valAccuracyr = Accuracy(vallabelr, valpredr)\n",
        "print(\"Validation accuracy of RandomClassifier is \", valAccuracyr)\n",
        "\n",
        "traindatar, trainlabelr, valdatar, vallabelr = split(alltraindata, alltrainlabel, 0.1/100)\n",
        "valpredr = RandomClassifier(traindatar, trainlabelr, valdatar)\n",
        "valAccuracyr = Accuracy(vallabelr, valpredr)\n",
        "print(\"Validation accuracy of RandomClassifier is \", valAccuracyr)\n"
      ],
      "metadata": {
        "id": "dZG2VZ-S--qE",
        "outputId": "d234d89f-37f7-43cc-ba63-95db1c37fa03",
        "colab": {
          "base_uri": "https://localhost:8080/"
        }
      },
      "execution_count": 14,
      "outputs": [
        {
          "output_type": "stream",
          "name": "stdout",
          "text": [
            "Validation accuracy of nearest neighbour is  0.25\n",
            "Validation accuracy of nearest neighbour is  0.19588816786948876\n",
            "Validation accuracy of RandomClassifier is  0.16666666666666666\n",
            "Validation accuracy of RandomClassifier is  0.2264837965772545\n"
          ]
        }
      ]
    },
    {
      "cell_type": "code",
      "source": [
        "import matplotlib.pyplot as plt\n",
        "\n",
        "validation_percentages = [10, 25, 50, 75, 90]\n",
        "\n",
        "nnacc= [valAccuracy1, valAccuracy3, valAccuracy4, valAccuracy, valAccuracy2]\n",
        "ranacc = [valAccuracy6, valAccuracy7, valAccuracy5, valAccuracy8, valAccuracy9]\n",
        "\n",
        "plt.figure(figsize=(10, 4))\n",
        "plt.plot(validation_percentages, nnacc, marker='o', label='NN Classifier')\n",
        "plt.plot(validation_percentages, ranacc, marker='x', label='Random Classifier')\n",
        "plt.xlabel('Validation Percentage')\n",
        "plt.ylabel('Validation Accuracy')\n",
        "plt.title('Validation Accuracy vs. Validation Percentage')\n",
        "plt.legend()\n",
        "plt.show()\n"
      ],
      "metadata": {
        "id": "Zcr-DXFeAV8C",
        "outputId": "4daf6185-bba8-4506-e961-56989427eeb7",
        "colab": {
          "base_uri": "https://localhost:8080/",
          "height": 410
        }
      },
      "execution_count": 15,
      "outputs": [
        {
          "output_type": "display_data",
          "data": {
            "text/plain": [
              "<Figure size 1000x400 with 1 Axes>"
            ],
            "image/png": "[encoded data removed]"
          },
          "metadata": {}
        }
      ]
    },
    {
      "cell_type": "markdown",
      "metadata": {
        "id": "PnYvkAZLQY7h"
      },
      "source": [
        "## Multiple Splits\n",
        "\n",
        "One way to get more accurate estimates for the test accuracy is by using <b>crossvalidation</b>. Here, we will try a simple version, where we do multiple train/val splits and take the average of validation accuracies as the test accuracy estimation. Here is a function for doing this. Note that this function will take a long time to execute."
      ]
    },
    {
      "cell_type": "code",
      "metadata": {
        "id": "E4nGCUQXBTzo"
      },
      "source": [
        "# you can use this function for random classifier also\n",
        "def AverageAccuracy(alldata, alllabel, splitpercent, iterations, classifier=NN):\n",
        "  accuracy = 0\n",
        "  for ii in range(iterations):\n",
        "    traindata, trainlabel, valdata, vallabel = split(alldata, alllabel, splitpercent)\n",
        "    valpred = classifier(traindata, trainlabel, valdata)\n",
        "    accuracy += Accuracy(vallabel, valpred)\n",
        "  return accuracy/iterations # average of all accuracies"
      ],
      "execution_count": 16,
      "outputs": []
    },
    {
      "cell_type": "code",
      "metadata": {
        "id": "H3qtNar7Bbik"
      },
      "source": [
        "print('Average validation accuracy is ', AverageAccuracy(alltraindata, alltrainlabel, 75/100, 10, classifier=NN))\n",
        "testpred = NN(alltraindata, alltrainlabel, testdata)\n",
        "print('test accuracy is ',Accuracy(testlabel, testpred) )"
      ],
      "execution_count": null,
      "outputs": []
    },
    {
      "cell_type": "markdown",
      "metadata": {
        "id": "33GIn4x5VH-d"
      },
      "source": [
        "This is a very simple way of doing cross-validation. There are many well-known algorithms for cross-validation, like k-fold cross-validation, leave-one-out etc. This will be covered in detail in a later module. For more information about cross-validation, check <a href=https://en.wikipedia.org/wiki/Cross-validation_(statistics)>Cross-validatioin (Wikipedia)</a>\n",
        "\n",
        "### Questions\n",
        "1. Does averaging the validation accuracy across multiple splits give more consistent results?\n",
        "2. Does it give more accurate estimate of test accuracy?\n",
        "3. What is the effect of the number of iterations on the estimate? Do we get a better estimate with higher iterations?\n",
        "4. Consider the results you got for the previous questions. Can we deal with a very small train dataset or validation dataset by increasing the iterations?\n"
      ]
    },
    {
      "cell_type": "markdown",
      "source": [
        "1.\n",
        "The averaging of validation accuracy across multiple splits increases consistency as the randomisation is reduced to some extent and every data point of both training and validation set is used as it validates the set k times.\n",
        "\n",
        "2.\n",
        "Cross- validation is performed on the validation dataset and test accuracy is of the test dataset so it does not effect the test accuracy\n",
        "\n",
        "3.\n",
        "The number of iterations will effect the estimation of the model's performance in terms of stability. If there are more iterations, the variations in the dataset minimise, geiving rise to a relatively consistent dataset.\n",
        "\n",
        "4.\n",
        "Increasing the number of iterations for a very small train data set will be an advantage to some extent as the parts of the datasets are repeatedly gone through scopes to improve model performance\n",
        "And increasing iterations for the validation dataset might deal with the outliers arising from splits but the small dataset might not give the desired results."
      ],
      "metadata": {
        "id": "IsoHEoPkXDcC"
      }
    }
  ]
}